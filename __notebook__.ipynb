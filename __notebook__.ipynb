{
 "cells": [
  {
   "cell_type": "markdown",
   "metadata": {
    "_cell_guid": "56512c46-c8ff-38c0-1d64-1450be8cb83b",
    "deletable": true,
    "editable": true
   },
   "source": [
    "# Hello! #\n",
    "\n",
    "I am Daniel, a 2nd year student at UNSW.\n",
    "----------\n",
    "The aims of this task include:\n",
    "\n",
    " 1. Predict as accurately as possible whether the passengers had died (0) or survived (1).\n",
    " 2. Clean and prepare the data appropriately.\n",
    " 3. Introduce new features (feature engineering) to lift the accuracy of the model.\n",
    " 4. Utilise dimensionality reduction or feature selection to reduce the model complexity, but maintain its accuracy.\n",
    "![Titanic Photo][1]\n",
    "\n",
    "\n",
    "  [1]: https://upload.wikimedia.org/wikipedia/commons/thumb/f/fd/RMS_Titanic_3.jpg/325px-RMS_Titanic_3.jpg"
   ]
  },
  {
   "cell_type": "markdown",
   "metadata": {
    "_cell_guid": "dfa6469f-c39e-0253-b8f9-594800578383",
    "deletable": true,
    "editable": true
   },
   "source": [
    "#We first need to import the libraries into Python that we need to use.\n",
    "\n",
    " 1. Matplotlib is a graphing interface for nice plots.\n",
    " 2. Sklearn is the predictive model set we are using.\n",
    " 3. Numpy and Pandas are both dataframe and array modifiers."
   ]
  },
  {
   "cell_type": "code",
   "execution_count": 4,
   "metadata": {
    "_cell_guid": "0f13530d-3cf9-407b-913d-c3e7201d0e12",
    "collapsed": true,
    "deletable": true,
    "editable": true
   },
   "outputs": [],
   "source": [
    "% matplotlib inline\n",
    "import matplotlib.pyplot as plt\n",
    "from sklearn.ensemble import RandomForestClassifier as rfc\n",
    "\n",
    "import warnings\n",
    "import numpy as np\n",
    "import pandas as pd\n",
    "\n",
    "warnings.filterwarnings('ignore')"
   ]
  },
  {
   "cell_type": "markdown",
   "metadata": {
    "_cell_guid": "ffca2248-2232-fefe-5838-be2424ffe1c0",
    "deletable": true,
    "editable": true
   },
   "source": [
    "### Random Forests are a type of Decision Tree based modelling, where you go down each brach until you reach the end point (which is the prediction)\n",
    "\n",
    "![Random Forest Example][1]\n",
    "\n",
    "\n",
    "  [1]: http://s7.postimg.org/ik9dd7ny3/Random_Forest_Concepts_Page_3.png"
   ]
  },
  {
   "cell_type": "markdown",
   "metadata": {
    "_cell_guid": "110bf3d8-b17f-2794-71d2-ed8898ab72fe",
    "deletable": true,
    "editable": true
   },
   "source": [
    "###We first need to read in the two datasets (training and testing).\n",
    "\n",
    "We first remove the column \"Survived\" from x, and use it later for fitting our model.\n",
    "\n",
    "We then merge the two sets together, as we need to apply cleaning and feature engineering on both (or else they become out of sync)"
   ]
  },
  {
   "cell_type": "code",
   "execution_count": 10,
   "metadata": {
    "_cell_guid": "4d9f22c4-f54d-16aa-a14c-00ca9e503564",
    "collapsed": false,
    "deletable": true,
    "editable": true
   },
   "outputs": [
    {
     "ename": "KeyError",
     "evalue": "'Survived'",
     "output_type": "error",
     "traceback": [
      "\u001b[0;31m---------------------------------------------------------------------------\u001b[0m",
      "\u001b[0;31mKeyError\u001b[0m                                  Traceback (most recent call last)",
      "\u001b[0;32m<ipython-input-10-cbf78e1e830c>\u001b[0m in \u001b[0;36m<module>\u001b[0;34m()\u001b[0m\n\u001b[1;32m      2\u001b[0m \u001b[0mx_2\u001b[0m \u001b[0;34m=\u001b[0m \u001b[0mpd\u001b[0m\u001b[0;34m.\u001b[0m\u001b[0mread_csv\u001b[0m\u001b[0;34m(\u001b[0m\u001b[0;34m\"Big_data_practice/data/train.csv\"\u001b[0m\u001b[0;34m)\u001b[0m\u001b[0;34m\u001b[0m\u001b[0m\n\u001b[1;32m      3\u001b[0m \u001b[0my\u001b[0m \u001b[0;34m=\u001b[0m \u001b[0mpd\u001b[0m\u001b[0;34m.\u001b[0m\u001b[0mread_csv\u001b[0m\u001b[0;34m(\u001b[0m\u001b[0;34m\"Big_data_practice/data/test_new.csv\"\u001b[0m\u001b[0;34m)\u001b[0m\u001b[0;34m\u001b[0m\u001b[0m\n\u001b[0;32m----> 4\u001b[0;31m \u001b[0mtoPredict\u001b[0m \u001b[0;34m=\u001b[0m \u001b[0mx\u001b[0m\u001b[0;34m.\u001b[0m\u001b[0mpop\u001b[0m\u001b[0;34m(\u001b[0m\u001b[0;34m'Survived'\u001b[0m\u001b[0;34m)\u001b[0m\u001b[0;34m\u001b[0m\u001b[0m\n\u001b[0m\u001b[1;32m      5\u001b[0m \u001b[0mdata\u001b[0m \u001b[0;34m=\u001b[0m \u001b[0mpd\u001b[0m\u001b[0;34m.\u001b[0m\u001b[0mconcat\u001b[0m\u001b[0;34m(\u001b[0m\u001b[0;34m[\u001b[0m\u001b[0mx\u001b[0m\u001b[0;34m,\u001b[0m\u001b[0my\u001b[0m\u001b[0;34m]\u001b[0m\u001b[0;34m)\u001b[0m\u001b[0;34m\u001b[0m\u001b[0m\n",
      "\u001b[0;32m/home/abhishek/.local/lib/python2.7/site-packages/pandas/core/generic.pyc\u001b[0m in \u001b[0;36mpop\u001b[0;34m(self, item)\u001b[0m\n\u001b[1;32m    523\u001b[0m         \u001b[0mReturn\u001b[0m \u001b[0mitem\u001b[0m \u001b[0;32mand\u001b[0m \u001b[0mdrop\u001b[0m \u001b[0;32mfrom\u001b[0m \u001b[0mframe\u001b[0m\u001b[0;34m.\u001b[0m \u001b[0mRaise\u001b[0m \u001b[0mKeyError\u001b[0m \u001b[0;32mif\u001b[0m \u001b[0;32mnot\u001b[0m \u001b[0mfound\u001b[0m\u001b[0;34m.\u001b[0m\u001b[0;34m\u001b[0m\u001b[0m\n\u001b[1;32m    524\u001b[0m         \"\"\"\n\u001b[0;32m--> 525\u001b[0;31m         \u001b[0mresult\u001b[0m \u001b[0;34m=\u001b[0m \u001b[0mself\u001b[0m\u001b[0;34m[\u001b[0m\u001b[0mitem\u001b[0m\u001b[0;34m]\u001b[0m\u001b[0;34m\u001b[0m\u001b[0m\n\u001b[0m\u001b[1;32m    526\u001b[0m         \u001b[0;32mdel\u001b[0m \u001b[0mself\u001b[0m\u001b[0;34m[\u001b[0m\u001b[0mitem\u001b[0m\u001b[0;34m]\u001b[0m\u001b[0;34m\u001b[0m\u001b[0m\n\u001b[1;32m    527\u001b[0m         \u001b[0;32mtry\u001b[0m\u001b[0;34m:\u001b[0m\u001b[0;34m\u001b[0m\u001b[0m\n",
      "\u001b[0;32m/home/abhishek/.local/lib/python2.7/site-packages/pandas/core/frame.pyc\u001b[0m in \u001b[0;36m__getitem__\u001b[0;34m(self, key)\u001b[0m\n\u001b[1;32m   2057\u001b[0m             \u001b[0;32mreturn\u001b[0m \u001b[0mself\u001b[0m\u001b[0;34m.\u001b[0m\u001b[0m_getitem_multilevel\u001b[0m\u001b[0;34m(\u001b[0m\u001b[0mkey\u001b[0m\u001b[0;34m)\u001b[0m\u001b[0;34m\u001b[0m\u001b[0m\n\u001b[1;32m   2058\u001b[0m         \u001b[0;32melse\u001b[0m\u001b[0;34m:\u001b[0m\u001b[0;34m\u001b[0m\u001b[0m\n\u001b[0;32m-> 2059\u001b[0;31m             \u001b[0;32mreturn\u001b[0m \u001b[0mself\u001b[0m\u001b[0;34m.\u001b[0m\u001b[0m_getitem_column\u001b[0m\u001b[0;34m(\u001b[0m\u001b[0mkey\u001b[0m\u001b[0;34m)\u001b[0m\u001b[0;34m\u001b[0m\u001b[0m\n\u001b[0m\u001b[1;32m   2060\u001b[0m \u001b[0;34m\u001b[0m\u001b[0m\n\u001b[1;32m   2061\u001b[0m     \u001b[0;32mdef\u001b[0m \u001b[0m_getitem_column\u001b[0m\u001b[0;34m(\u001b[0m\u001b[0mself\u001b[0m\u001b[0;34m,\u001b[0m \u001b[0mkey\u001b[0m\u001b[0;34m)\u001b[0m\u001b[0;34m:\u001b[0m\u001b[0;34m\u001b[0m\u001b[0m\n",
      "\u001b[0;32m/home/abhishek/.local/lib/python2.7/site-packages/pandas/core/frame.pyc\u001b[0m in \u001b[0;36m_getitem_column\u001b[0;34m(self, key)\u001b[0m\n\u001b[1;32m   2064\u001b[0m         \u001b[0;31m# get column\u001b[0m\u001b[0;34m\u001b[0m\u001b[0;34m\u001b[0m\u001b[0m\n\u001b[1;32m   2065\u001b[0m         \u001b[0;32mif\u001b[0m \u001b[0mself\u001b[0m\u001b[0;34m.\u001b[0m\u001b[0mcolumns\u001b[0m\u001b[0;34m.\u001b[0m\u001b[0mis_unique\u001b[0m\u001b[0;34m:\u001b[0m\u001b[0;34m\u001b[0m\u001b[0m\n\u001b[0;32m-> 2066\u001b[0;31m             \u001b[0;32mreturn\u001b[0m \u001b[0mself\u001b[0m\u001b[0;34m.\u001b[0m\u001b[0m_get_item_cache\u001b[0m\u001b[0;34m(\u001b[0m\u001b[0mkey\u001b[0m\u001b[0;34m)\u001b[0m\u001b[0;34m\u001b[0m\u001b[0m\n\u001b[0m\u001b[1;32m   2067\u001b[0m \u001b[0;34m\u001b[0m\u001b[0m\n\u001b[1;32m   2068\u001b[0m         \u001b[0;31m# duplicate columns & possible reduce dimensionality\u001b[0m\u001b[0;34m\u001b[0m\u001b[0;34m\u001b[0m\u001b[0m\n",
      "\u001b[0;32m/home/abhishek/.local/lib/python2.7/site-packages/pandas/core/generic.pyc\u001b[0m in \u001b[0;36m_get_item_cache\u001b[0;34m(self, item)\u001b[0m\n\u001b[1;32m   1384\u001b[0m         \u001b[0mres\u001b[0m \u001b[0;34m=\u001b[0m \u001b[0mcache\u001b[0m\u001b[0;34m.\u001b[0m\u001b[0mget\u001b[0m\u001b[0;34m(\u001b[0m\u001b[0mitem\u001b[0m\u001b[0;34m)\u001b[0m\u001b[0;34m\u001b[0m\u001b[0m\n\u001b[1;32m   1385\u001b[0m         \u001b[0;32mif\u001b[0m \u001b[0mres\u001b[0m \u001b[0;32mis\u001b[0m \u001b[0mNone\u001b[0m\u001b[0;34m:\u001b[0m\u001b[0;34m\u001b[0m\u001b[0m\n\u001b[0;32m-> 1386\u001b[0;31m             \u001b[0mvalues\u001b[0m \u001b[0;34m=\u001b[0m \u001b[0mself\u001b[0m\u001b[0;34m.\u001b[0m\u001b[0m_data\u001b[0m\u001b[0;34m.\u001b[0m\u001b[0mget\u001b[0m\u001b[0;34m(\u001b[0m\u001b[0mitem\u001b[0m\u001b[0;34m)\u001b[0m\u001b[0;34m\u001b[0m\u001b[0m\n\u001b[0m\u001b[1;32m   1387\u001b[0m             \u001b[0mres\u001b[0m \u001b[0;34m=\u001b[0m \u001b[0mself\u001b[0m\u001b[0;34m.\u001b[0m\u001b[0m_box_item_values\u001b[0m\u001b[0;34m(\u001b[0m\u001b[0mitem\u001b[0m\u001b[0;34m,\u001b[0m \u001b[0mvalues\u001b[0m\u001b[0;34m)\u001b[0m\u001b[0;34m\u001b[0m\u001b[0m\n\u001b[1;32m   1388\u001b[0m             \u001b[0mcache\u001b[0m\u001b[0;34m[\u001b[0m\u001b[0mitem\u001b[0m\u001b[0;34m]\u001b[0m \u001b[0;34m=\u001b[0m \u001b[0mres\u001b[0m\u001b[0;34m\u001b[0m\u001b[0m\n",
      "\u001b[0;32m/home/abhishek/.local/lib/python2.7/site-packages/pandas/core/internals.pyc\u001b[0m in \u001b[0;36mget\u001b[0;34m(self, item, fastpath)\u001b[0m\n\u001b[1;32m   3541\u001b[0m \u001b[0;34m\u001b[0m\u001b[0m\n\u001b[1;32m   3542\u001b[0m             \u001b[0;32mif\u001b[0m \u001b[0;32mnot\u001b[0m \u001b[0misnull\u001b[0m\u001b[0;34m(\u001b[0m\u001b[0mitem\u001b[0m\u001b[0;34m)\u001b[0m\u001b[0;34m:\u001b[0m\u001b[0;34m\u001b[0m\u001b[0m\n\u001b[0;32m-> 3543\u001b[0;31m                 \u001b[0mloc\u001b[0m \u001b[0;34m=\u001b[0m \u001b[0mself\u001b[0m\u001b[0;34m.\u001b[0m\u001b[0mitems\u001b[0m\u001b[0;34m.\u001b[0m\u001b[0mget_loc\u001b[0m\u001b[0;34m(\u001b[0m\u001b[0mitem\u001b[0m\u001b[0;34m)\u001b[0m\u001b[0;34m\u001b[0m\u001b[0m\n\u001b[0m\u001b[1;32m   3544\u001b[0m             \u001b[0;32melse\u001b[0m\u001b[0;34m:\u001b[0m\u001b[0;34m\u001b[0m\u001b[0m\n\u001b[1;32m   3545\u001b[0m                 \u001b[0mindexer\u001b[0m \u001b[0;34m=\u001b[0m \u001b[0mnp\u001b[0m\u001b[0;34m.\u001b[0m\u001b[0marange\u001b[0m\u001b[0;34m(\u001b[0m\u001b[0mlen\u001b[0m\u001b[0;34m(\u001b[0m\u001b[0mself\u001b[0m\u001b[0;34m.\u001b[0m\u001b[0mitems\u001b[0m\u001b[0;34m)\u001b[0m\u001b[0;34m)\u001b[0m\u001b[0;34m[\u001b[0m\u001b[0misnull\u001b[0m\u001b[0;34m(\u001b[0m\u001b[0mself\u001b[0m\u001b[0;34m.\u001b[0m\u001b[0mitems\u001b[0m\u001b[0;34m)\u001b[0m\u001b[0;34m]\u001b[0m\u001b[0;34m\u001b[0m\u001b[0m\n",
      "\u001b[0;32m/home/abhishek/.local/lib/python2.7/site-packages/pandas/indexes/base.pyc\u001b[0m in \u001b[0;36mget_loc\u001b[0;34m(self, key, method, tolerance)\u001b[0m\n\u001b[1;32m   2134\u001b[0m                 \u001b[0;32mreturn\u001b[0m \u001b[0mself\u001b[0m\u001b[0;34m.\u001b[0m\u001b[0m_engine\u001b[0m\u001b[0;34m.\u001b[0m\u001b[0mget_loc\u001b[0m\u001b[0;34m(\u001b[0m\u001b[0mkey\u001b[0m\u001b[0;34m)\u001b[0m\u001b[0;34m\u001b[0m\u001b[0m\n\u001b[1;32m   2135\u001b[0m             \u001b[0;32mexcept\u001b[0m \u001b[0mKeyError\u001b[0m\u001b[0;34m:\u001b[0m\u001b[0;34m\u001b[0m\u001b[0m\n\u001b[0;32m-> 2136\u001b[0;31m                 \u001b[0;32mreturn\u001b[0m \u001b[0mself\u001b[0m\u001b[0;34m.\u001b[0m\u001b[0m_engine\u001b[0m\u001b[0;34m.\u001b[0m\u001b[0mget_loc\u001b[0m\u001b[0;34m(\u001b[0m\u001b[0mself\u001b[0m\u001b[0;34m.\u001b[0m\u001b[0m_maybe_cast_indexer\u001b[0m\u001b[0;34m(\u001b[0m\u001b[0mkey\u001b[0m\u001b[0;34m)\u001b[0m\u001b[0;34m)\u001b[0m\u001b[0;34m\u001b[0m\u001b[0m\n\u001b[0m\u001b[1;32m   2137\u001b[0m \u001b[0;34m\u001b[0m\u001b[0m\n\u001b[1;32m   2138\u001b[0m         \u001b[0mindexer\u001b[0m \u001b[0;34m=\u001b[0m \u001b[0mself\u001b[0m\u001b[0;34m.\u001b[0m\u001b[0mget_indexer\u001b[0m\u001b[0;34m(\u001b[0m\u001b[0;34m[\u001b[0m\u001b[0mkey\u001b[0m\u001b[0;34m]\u001b[0m\u001b[0;34m,\u001b[0m \u001b[0mmethod\u001b[0m\u001b[0;34m=\u001b[0m\u001b[0mmethod\u001b[0m\u001b[0;34m,\u001b[0m \u001b[0mtolerance\u001b[0m\u001b[0;34m=\u001b[0m\u001b[0mtolerance\u001b[0m\u001b[0;34m)\u001b[0m\u001b[0;34m\u001b[0m\u001b[0m\n",
      "\u001b[0;32mpandas/index.pyx\u001b[0m in \u001b[0;36mpandas.index.IndexEngine.get_loc (pandas/index.c:4433)\u001b[0;34m()\u001b[0m\n",
      "\u001b[0;32mpandas/index.pyx\u001b[0m in \u001b[0;36mpandas.index.IndexEngine.get_loc (pandas/index.c:4279)\u001b[0;34m()\u001b[0m\n",
      "\u001b[0;32mpandas/src/hashtable_class_helper.pxi\u001b[0m in \u001b[0;36mpandas.hashtable.PyObjectHashTable.get_item (pandas/hashtable.c:13742)\u001b[0;34m()\u001b[0m\n",
      "\u001b[0;32mpandas/src/hashtable_class_helper.pxi\u001b[0m in \u001b[0;36mpandas.hashtable.PyObjectHashTable.get_item (pandas/hashtable.c:13696)\u001b[0;34m()\u001b[0m\n",
      "\u001b[0;31mKeyError\u001b[0m: 'Survived'"
     ]
    }
   ],
   "source": [
    "x = pd.read_csv(\"Big_data_practice/data/train.csv\")\n",
    "x_2 = pd.read_csv(\"Big_data_practice/data/train.csv\")\n",
    "y = pd.read_csv(\"Big_data_practice/data/test_new.csv\")\n",
    "toPredict = x.pop('Survived')\n",
    "data = pd.concat([x,y])"
   ]
  },
  {
   "cell_type": "markdown",
   "metadata": {
    "_cell_guid": "df016bab-6ae5-75d0-3112-69ecf47cc5d8",
    "deletable": true,
    "editable": true
   },
   "source": [
    "### Now, let's see what's in our data"
   ]
  },
  {
   "cell_type": "code",
   "execution_count": 3,
   "metadata": {
    "_cell_guid": "604dd3e4-f3b1-ca0d-2270-2a816bb3ce97",
    "collapsed": false,
    "deletable": true,
    "editable": true
   },
   "outputs": [
    {
     "data": {
      "text/html": [
       "<div>\n",
       "<table border=\"1\" class=\"dataframe\">\n",
       "  <thead>\n",
       "    <tr style=\"text-align: right;\">\n",
       "      <th></th>\n",
       "      <th>PassengerId</th>\n",
       "      <th>Pclass</th>\n",
       "      <th>Age</th>\n",
       "      <th>SibSp</th>\n",
       "      <th>Parch</th>\n",
       "      <th>Fare</th>\n",
       "    </tr>\n",
       "  </thead>\n",
       "  <tbody>\n",
       "    <tr>\n",
       "      <th>count</th>\n",
       "      <td>1309.000000</td>\n",
       "      <td>1309.000000</td>\n",
       "      <td>1046.000000</td>\n",
       "      <td>1309.000000</td>\n",
       "      <td>1309.000000</td>\n",
       "      <td>1308.000000</td>\n",
       "    </tr>\n",
       "    <tr>\n",
       "      <th>mean</th>\n",
       "      <td>655.000000</td>\n",
       "      <td>2.294882</td>\n",
       "      <td>29.881138</td>\n",
       "      <td>0.498854</td>\n",
       "      <td>0.385027</td>\n",
       "      <td>33.295479</td>\n",
       "    </tr>\n",
       "    <tr>\n",
       "      <th>std</th>\n",
       "      <td>378.020061</td>\n",
       "      <td>0.837836</td>\n",
       "      <td>14.413493</td>\n",
       "      <td>1.041658</td>\n",
       "      <td>0.865560</td>\n",
       "      <td>51.758668</td>\n",
       "    </tr>\n",
       "    <tr>\n",
       "      <th>min</th>\n",
       "      <td>1.000000</td>\n",
       "      <td>1.000000</td>\n",
       "      <td>0.170000</td>\n",
       "      <td>0.000000</td>\n",
       "      <td>0.000000</td>\n",
       "      <td>0.000000</td>\n",
       "    </tr>\n",
       "    <tr>\n",
       "      <th>25%</th>\n",
       "      <td>328.000000</td>\n",
       "      <td>2.000000</td>\n",
       "      <td>21.000000</td>\n",
       "      <td>0.000000</td>\n",
       "      <td>0.000000</td>\n",
       "      <td>7.895800</td>\n",
       "    </tr>\n",
       "    <tr>\n",
       "      <th>50%</th>\n",
       "      <td>655.000000</td>\n",
       "      <td>3.000000</td>\n",
       "      <td>28.000000</td>\n",
       "      <td>0.000000</td>\n",
       "      <td>0.000000</td>\n",
       "      <td>14.454200</td>\n",
       "    </tr>\n",
       "    <tr>\n",
       "      <th>75%</th>\n",
       "      <td>982.000000</td>\n",
       "      <td>3.000000</td>\n",
       "      <td>39.000000</td>\n",
       "      <td>1.000000</td>\n",
       "      <td>0.000000</td>\n",
       "      <td>31.275000</td>\n",
       "    </tr>\n",
       "    <tr>\n",
       "      <th>max</th>\n",
       "      <td>1309.000000</td>\n",
       "      <td>3.000000</td>\n",
       "      <td>80.000000</td>\n",
       "      <td>8.000000</td>\n",
       "      <td>9.000000</td>\n",
       "      <td>512.329200</td>\n",
       "    </tr>\n",
       "  </tbody>\n",
       "</table>\n",
       "</div>"
      ],
      "text/plain": [
       "       PassengerId       Pclass          Age        SibSp        Parch  \\\n",
       "count  1309.000000  1309.000000  1046.000000  1309.000000  1309.000000   \n",
       "mean    655.000000     2.294882    29.881138     0.498854     0.385027   \n",
       "std     378.020061     0.837836    14.413493     1.041658     0.865560   \n",
       "min       1.000000     1.000000     0.170000     0.000000     0.000000   \n",
       "25%     328.000000     2.000000    21.000000     0.000000     0.000000   \n",
       "50%     655.000000     3.000000    28.000000     0.000000     0.000000   \n",
       "75%     982.000000     3.000000    39.000000     1.000000     0.000000   \n",
       "max    1309.000000     3.000000    80.000000     8.000000     9.000000   \n",
       "\n",
       "              Fare  \n",
       "count  1308.000000  \n",
       "mean     33.295479  \n",
       "std      51.758668  \n",
       "min       0.000000  \n",
       "25%       7.895800  \n",
       "50%      14.454200  \n",
       "75%      31.275000  \n",
       "max     512.329200  "
      ]
     },
     "execution_count": 3,
     "metadata": {},
     "output_type": "execute_result"
    }
   ],
   "source": [
    "data.describe()"
   ]
  },
  {
   "cell_type": "code",
   "execution_count": 4,
   "metadata": {
    "_cell_guid": "73d61f27-0bc6-cb76-b064-e664ede2aae2",
    "collapsed": false,
    "deletable": true,
    "editable": true
   },
   "outputs": [
    {
     "data": {
      "text/html": [
       "<div>\n",
       "<table border=\"1\" class=\"dataframe\">\n",
       "  <thead>\n",
       "    <tr style=\"text-align: right;\">\n",
       "      <th></th>\n",
       "      <th>Name</th>\n",
       "      <th>Sex</th>\n",
       "      <th>Ticket</th>\n",
       "      <th>Cabin</th>\n",
       "      <th>Embarked</th>\n",
       "    </tr>\n",
       "  </thead>\n",
       "  <tbody>\n",
       "    <tr>\n",
       "      <th>count</th>\n",
       "      <td>1309</td>\n",
       "      <td>1309</td>\n",
       "      <td>1309</td>\n",
       "      <td>295</td>\n",
       "      <td>1307</td>\n",
       "    </tr>\n",
       "    <tr>\n",
       "      <th>unique</th>\n",
       "      <td>1307</td>\n",
       "      <td>2</td>\n",
       "      <td>929</td>\n",
       "      <td>186</td>\n",
       "      <td>3</td>\n",
       "    </tr>\n",
       "    <tr>\n",
       "      <th>top</th>\n",
       "      <td>Kelly, Mr. James</td>\n",
       "      <td>male</td>\n",
       "      <td>CA. 2343</td>\n",
       "      <td>C23 C25 C27</td>\n",
       "      <td>S</td>\n",
       "    </tr>\n",
       "    <tr>\n",
       "      <th>freq</th>\n",
       "      <td>2</td>\n",
       "      <td>843</td>\n",
       "      <td>11</td>\n",
       "      <td>6</td>\n",
       "      <td>914</td>\n",
       "    </tr>\n",
       "  </tbody>\n",
       "</table>\n",
       "</div>"
      ],
      "text/plain": [
       "                    Name   Sex    Ticket        Cabin Embarked\n",
       "count               1309  1309      1309          295     1307\n",
       "unique              1307     2       929          186        3\n",
       "top     Kelly, Mr. James  male  CA. 2343  C23 C25 C27        S\n",
       "freq                   2   843        11            6      914"
      ]
     },
     "execution_count": 4,
     "metadata": {},
     "output_type": "execute_result"
    }
   ],
   "source": [
    "data.describe(include=['O'])"
   ]
  },
  {
   "cell_type": "markdown",
   "metadata": {
    "_cell_guid": "bfe442cd-1ee4-6b28-71c0-af0d38307d29",
    "deletable": true,
    "editable": true
   },
   "source": [
    "##Clearly, we can see the columns Age, Fare, Cabin and Embarked have missing values.\n",
    "\n",
    "###So, we first clean the age column.\n",
    "We find the median age (after we filter out the same characterisitc data subset (ie same Pclass and Sex)), and apply it to the missing values."
   ]
  },
  {
   "cell_type": "code",
   "execution_count": 5,
   "metadata": {
    "_cell_guid": "164454a6-655d-6224-1cf6-8f19a9115dfd",
    "collapsed": false,
    "deletable": true,
    "editable": true
   },
   "outputs": [
    {
     "name": "stdout",
     "output_type": "stream",
     "text": [
      "Pclass 1 F = 36.0\n",
      "Pclass 2 F = 28.0\n",
      "Pclass 3 F = 22.0\n",
      "Pclass 1 M = 42.0\n",
      "Pclass 2 M = 29.5\n",
      "Pclass 3 M = 25.0\n"
     ]
    }
   ],
   "source": [
    "newage = data[['Age','Pclass','Sex']].dropna()\n",
    "\n",
    "## Get the subset data\n",
    "print('Pclass 1 F = '+str(    np.median(((newage.query('Pclass == 1 and Sex == \"female\"')))['Age'])))\n",
    "print('Pclass 2 F = '+str(    np.median(((newage.query('Pclass == 2 and Sex == \"female\"')))['Age'])))\n",
    "print('Pclass 3 F = '+str(    np.median(((newage.query('Pclass == 3 and Sex == \"female\"')))['Age'])))\n",
    "print('Pclass 1 M = '+str(    np.median(((newage.query('Pclass == 1 and Sex == \"male\"')))['Age'])))\n",
    "print('Pclass 2 M = '+str(    np.median(((newage.query('Pclass == 2 and Sex == \"male\"')))['Age'])))\n",
    "print('Pclass 3 M = '+str(    np.median(((newage.query('Pclass == 3 and Sex == \"male\"')))['Age'])))\n",
    "\n",
    "## Get the subset data and fillna with median\n",
    "data1 = data.query('Pclass == 1 and Sex == \"female\"');     data1['Age'] = data1['Age'].fillna(36)\n",
    "data2 = data.query('Pclass == 2 and Sex == \"female\"');     data2['Age'] = data2['Age'].fillna(28)\n",
    "data3 = data.query('Pclass == 3 and Sex == \"female\"');     data3['Age'] = data3['Age'].fillna(22)\n",
    "data4 = data.query('Pclass == 1 and Sex == \"male\"');       data4['Age'] = data4['Age'].fillna(42)\n",
    "data5 = data.query('Pclass == 2 and Sex == \"male\"');       data5['Age'] = data5['Age'].fillna(29.5)\n",
    "data6 = data.query('Pclass == 3 and Sex == \"male\"');       data6['Age'] = data6['Age'].fillna(25)\n",
    "\n",
    "## Merge all subsetted datasets and sort by PassengerID\n",
    "data = pd.concat([data1,data2,data3,data4,data5,data6])\n",
    "\n",
    "data = data.sort('PassengerId')"
   ]
  },
  {
   "cell_type": "markdown",
   "metadata": {
    "_cell_guid": "ac6d9d29-1d37-f38d-18bf-2392ed680c88",
    "deletable": true,
    "editable": true
   },
   "source": [
    "### Now let us do some exploratory data analysis after we have done cleaning."
   ]
  },
  {
   "cell_type": "code",
   "execution_count": 6,
   "metadata": {
    "_cell_guid": "3ea191cd-f415-c10a-1d32-785ec12af681",
    "collapsed": false,
    "deletable": true,
    "editable": true
   },
   "outputs": [
    {
     "data": {
      "text/html": [
       "<div>\n",
       "<table border=\"1\" class=\"dataframe\">\n",
       "  <thead>\n",
       "    <tr>\n",
       "      <th></th>\n",
       "      <th colspan=\"2\" halign=\"left\">Fare</th>\n",
       "      <th colspan=\"2\" halign=\"left\">Sex</th>\n",
       "      <th colspan=\"3\" halign=\"left\">Pclass</th>\n",
       "      <th>SibSp</th>\n",
       "      <th>Parch</th>\n",
       "      <th colspan=\"3\" halign=\"left\">Embarked</th>\n",
       "      <th colspan=\"2\" halign=\"left\">Age</th>\n",
       "    </tr>\n",
       "    <tr>\n",
       "      <th></th>\n",
       "      <th>Median</th>\n",
       "      <th>Mean</th>\n",
       "      <th>Male</th>\n",
       "      <th>Female</th>\n",
       "      <th>1</th>\n",
       "      <th>2</th>\n",
       "      <th>3</th>\n",
       "      <th>Mean</th>\n",
       "      <th>Mean</th>\n",
       "      <th>S</th>\n",
       "      <th>C</th>\n",
       "      <th>Q</th>\n",
       "      <th>Median</th>\n",
       "      <th>Mean</th>\n",
       "    </tr>\n",
       "    <tr>\n",
       "      <th>Survived</th>\n",
       "      <th></th>\n",
       "      <th></th>\n",
       "      <th></th>\n",
       "      <th></th>\n",
       "      <th></th>\n",
       "      <th></th>\n",
       "      <th></th>\n",
       "      <th></th>\n",
       "      <th></th>\n",
       "      <th></th>\n",
       "      <th></th>\n",
       "      <th></th>\n",
       "      <th></th>\n",
       "      <th></th>\n",
       "    </tr>\n",
       "  </thead>\n",
       "  <tbody>\n",
       "    <tr>\n",
       "      <th>0</th>\n",
       "      <td>10.5</td>\n",
       "      <td>22.117887</td>\n",
       "      <td>468</td>\n",
       "      <td>81</td>\n",
       "      <td>80</td>\n",
       "      <td>97</td>\n",
       "      <td>372</td>\n",
       "      <td>0.553734</td>\n",
       "      <td>0.329690</td>\n",
       "      <td>427</td>\n",
       "      <td>75</td>\n",
       "      <td>47</td>\n",
       "      <td>28.0</td>\n",
       "      <td>30.626179</td>\n",
       "    </tr>\n",
       "    <tr>\n",
       "      <th>1</th>\n",
       "      <td>26.0</td>\n",
       "      <td>48.395408</td>\n",
       "      <td>109</td>\n",
       "      <td>233</td>\n",
       "      <td>136</td>\n",
       "      <td>87</td>\n",
       "      <td>119</td>\n",
       "      <td>0.473684</td>\n",
       "      <td>0.464912</td>\n",
       "      <td>217</td>\n",
       "      <td>93</td>\n",
       "      <td>30</td>\n",
       "      <td>28.0</td>\n",
       "      <td>28.343690</td>\n",
       "    </tr>\n",
       "  </tbody>\n",
       "</table>\n",
       "</div>"
      ],
      "text/plain": [
       "           Fare             Sex        Pclass              SibSp     Parch  \\\n",
       "         Median       Mean Male Female      1   2    3      Mean      Mean   \n",
       "Survived                                                                     \n",
       "0          10.5  22.117887  468     81     80  97  372  0.553734  0.329690   \n",
       "1          26.0  48.395408  109    233    136  87  119  0.473684  0.464912   \n",
       "\n",
       "         Embarked            Age             \n",
       "                S   C   Q Median       Mean  \n",
       "Survived                                     \n",
       "0             427  75  47   28.0  30.626179  \n",
       "1             217  93  30   28.0  28.343690  "
      ]
     },
     "execution_count": 6,
     "metadata": {},
     "output_type": "execute_result"
    }
   ],
   "source": [
    "x_2.groupby('Survived').agg({'Fare':\n",
    "                                  {'Median':'median',\n",
    "                                  'Mean':'mean', },\n",
    "                           \n",
    "                          'Sex':  {'Male':lambda x: (x == 'male').sum(),\n",
    "                                  'Female':lambda x: (x == 'female').sum(), },\n",
    "                             \n",
    "                           'Pclass':  {'1':lambda x: (x == 1).sum(),\n",
    "                                  '2':lambda x: (x == 2).sum(),\n",
    "                                   '3':lambda x: (x == 3).sum(),},\n",
    "                             \n",
    "                        'SibSp':  {'Mean':'mean',},\n",
    "                           'Parch':  {'Mean':'mean',},\n",
    "                             \n",
    "                           'Embarked':  {'S':lambda x: (x == 'S').sum(),\n",
    "                                  'C':lambda x: (x == 'C').sum(),\n",
    "                                   'Q':lambda x: (x == 'Q').sum()},\n",
    "                             \n",
    "                           'Age':  {'Median':'median',\n",
    "                                  'Mean':'mean', },\n",
    "                          }\n",
    "                    )"
   ]
  },
  {
   "cell_type": "markdown",
   "metadata": {
    "_cell_guid": "9a3e530f-33af-98a0-9370-8888a4b71f75",
    "deletable": true,
    "editable": true
   },
   "source": [
    "### Now, let's see some cool graphs about Age, Sex and Pclass survival rates"
   ]
  },
  {
   "cell_type": "code",
   "execution_count": 3,
   "metadata": {
    "_cell_guid": "8fd7a9b5-62d9-8640-49a6-414f2e9ae6e3",
    "collapsed": false,
    "deletable": true,
    "editable": true,
    "scrolled": true
   },
   "outputs": [
    {
     "ename": "NameError",
     "evalue": "name 'x_2' is not defined",
     "output_type": "error",
     "traceback": [
      "\u001b[0;31m---------------------------------------------------------------------------\u001b[0m",
      "\u001b[0;31mNameError\u001b[0m                                 Traceback (most recent call last)",
      "\u001b[0;32m<ipython-input-3-3ef0fce88852>\u001b[0m in \u001b[0;36m<module>\u001b[0;34m()\u001b[0m\n\u001b[1;32m      1\u001b[0m \u001b[0;31m## Survival by sex\u001b[0m\u001b[0;34m\u001b[0m\u001b[0;34m\u001b[0m\u001b[0m\n\u001b[0;32m----> 2\u001b[0;31m \u001b[0msurvived_sex\u001b[0m \u001b[0;34m=\u001b[0m \u001b[0mx_2\u001b[0m\u001b[0;34m[\u001b[0m\u001b[0mx_2\u001b[0m\u001b[0;34m[\u001b[0m\u001b[0;34m'Survived'\u001b[0m\u001b[0;34m]\u001b[0m\u001b[0;34m==\u001b[0m\u001b[0;36m1\u001b[0m\u001b[0;34m]\u001b[0m\u001b[0;34m[\u001b[0m\u001b[0;34m'Sex'\u001b[0m\u001b[0;34m]\u001b[0m\u001b[0;34m.\u001b[0m\u001b[0mvalue_counts\u001b[0m\u001b[0;34m(\u001b[0m\u001b[0;34m)\u001b[0m\u001b[0;34m\u001b[0m\u001b[0m\n\u001b[0m\u001b[1;32m      3\u001b[0m \u001b[0mdead_sex\u001b[0m \u001b[0;34m=\u001b[0m \u001b[0mx_2\u001b[0m\u001b[0;34m[\u001b[0m\u001b[0mx_2\u001b[0m\u001b[0;34m[\u001b[0m\u001b[0;34m'Survived'\u001b[0m\u001b[0;34m]\u001b[0m\u001b[0;34m==\u001b[0m\u001b[0;36m0\u001b[0m\u001b[0;34m]\u001b[0m\u001b[0;34m[\u001b[0m\u001b[0;34m'Sex'\u001b[0m\u001b[0;34m]\u001b[0m\u001b[0;34m.\u001b[0m\u001b[0mvalue_counts\u001b[0m\u001b[0;34m(\u001b[0m\u001b[0;34m)\u001b[0m\u001b[0;34m\u001b[0m\u001b[0m\n\u001b[1;32m      4\u001b[0m \u001b[0;34m\u001b[0m\u001b[0m\n\u001b[1;32m      5\u001b[0m \u001b[0mdf\u001b[0m \u001b[0;34m=\u001b[0m \u001b[0mpd\u001b[0m\u001b[0;34m.\u001b[0m\u001b[0mDataFrame\u001b[0m\u001b[0;34m(\u001b[0m\u001b[0;34m[\u001b[0m\u001b[0msurvived_sex\u001b[0m\u001b[0;34m,\u001b[0m\u001b[0mdead_sex\u001b[0m\u001b[0;34m]\u001b[0m\u001b[0;34m)\u001b[0m\u001b[0;34m\u001b[0m\u001b[0m\n",
      "\u001b[0;31mNameError\u001b[0m: name 'x_2' is not defined"
     ]
    }
   ],
   "source": [
    "## Survival by sex\n",
    "survived_sex = x_2[x_2['Survived']==1]['Sex'].value_counts()\n",
    "dead_sex = x_2[x_2['Survived']==0]['Sex'].value_counts()\n",
    "\n",
    "df = pd.DataFrame([survived_sex,dead_sex])\n",
    "\n",
    "df.index = ['Survived','Dead']\n",
    "plot_sex = df.plot(kind='bar',stacked=True, figsize=(2,4)\n",
    "       , color = ['g','r'])"
   ]
  },
  {
   "cell_type": "code",
   "execution_count": 8,
   "metadata": {
    "_cell_guid": "318e9919-9ee6-04f9-d639-0a4974b8859b",
    "collapsed": false,
    "deletable": true,
    "editable": true
   },
   "outputs": [
    {
     "data": {
      "image/png": "[encoded data removed]",
      "text/plain": [
       "<matplotlib.figure.Figure at 0x7f2653baf160>"
      ]
     },
     "metadata": {},
     "output_type": "display_data"
    }
   ],
   "source": [
    "## Survival by Age\n",
    "\n",
    "plot_age = plt.hist([x_2[x_2['Survived']==1]['Age'].fillna(-10),\n",
    "          x_2[x_2['Survived']==0]['Age'].fillna(-10)], \n",
    "         stacked=True, color = ['g','r'],\n",
    "         bins = 30,label = ['Survived','Dead'])"
   ]
  },
  {
   "cell_type": "code",
   "execution_count": 9,
   "metadata": {
    "_cell_guid": "6c640677-009a-8629-ad88-9d55d726b7b9",
    "collapsed": false,
    "deletable": true,
    "editable": true
   },
   "outputs": [
    {
     "data": {
      "image/png": "[encoded data removed]",
      "text/plain": [
       "<matplotlib.figure.Figure at 0x7f26505cb0b8>"
      ]
     },
     "metadata": {},
     "output_type": "display_data"
    }
   ],
   "source": [
    "## Survival by Fare\n",
    "\n",
    "plot_fare = plt.hist([x_2[x_2['Survived']==1]['Fare'].fillna(-10),\n",
    "          x_2[x_2['Survived']==0]['Fare'].fillna(-10)], \n",
    "         stacked=True, color = ['g','r'],\n",
    "         bins = 30,label = ['Survived','Dead'])"
   ]
  },
  {
   "cell_type": "markdown",
   "metadata": {
    "_cell_guid": "1a9df102-e5e1-01af-83d2-4b6d9614325c",
    "deletable": true,
    "editable": true
   },
   "source": [
    "### We can now infer the following: \n",
    "\n",
    "<ol>\n",
    "  <li>**Pclass:**          The lower your class (3), the more likely you'll die</li>\n",
    "  \n",
    "  <li>**Fare:**The lower your fare, the more likely you'll die</li>\n",
    "  \n",
    "  <li>**Embarked**: Most of them are S, and most of them died</li>\n",
    "  \n",
    "  <li>**Age**: The higher your age, the more likely you'll die</li>\n",
    "  \n",
    "  <li>**SibSp** (Siblings, Spouse): The more you have the more likely you'll die</li>\n",
    "  \n",
    "  <li>**Sex**: If you are a male, you have the more likely you'll die</li>\n",
    "  \n",
    "  <li>**Parch** (Parents, Children): The less you have the more likely you'll die</li>\n",
    "</ol>\n"
   ]
  },
  {
   "cell_type": "markdown",
   "metadata": {
    "_cell_guid": "3faa3525-5d5c-d530-1877-6ebdc4d27768",
    "deletable": true,
    "editable": true
   },
   "source": [
    "<h3>After we know the main features of the data, we know have to clean more data or include new features. </h3>\n",
    "\n",
    "\n",
    "----------\n",
    "<h1> TIME FOR FEATURE ENGINEERING AND MORE CLEANING!!! </h1>\n",
    "![Feature Engineering][1]\n",
    "\n",
    "\n",
    "  [1]: http://3.bp.blogspot.com/-v7RCgnSNLfA/U5stfq5zuJI/AAAAAAAADt4/9_87WaSa620/s1600/features-in-ML.jpg"
   ]
  },
  {
   "cell_type": "markdown",
   "metadata": {
    "_cell_guid": "457402d6-72f0-7569-3abe-9822e9e292dd",
    "deletable": true,
    "editable": true
   },
   "source": [
    "<h3>Now, we find which person has a missing fare value </h3>"
   ]
  },
  {
   "cell_type": "code",
   "execution_count": 10,
   "metadata": {
    "_cell_guid": "b29ee52c-9016-5651-d61b-77e03fae71ae",
    "collapsed": false,
    "deletable": true,
    "editable": true
   },
   "outputs": [
    {
     "name": "stdout",
     "output_type": "stream",
     "text": [
      "     PassengerId  Pclass                Name   Sex   Age  SibSp  Parch Ticket  \\\n",
      "152         1044       3  Storey, Mr. Thomas  male  60.5      0      0   3701   \n",
      "\n",
      "     Fare Cabin Embarked  \n",
      "152   NaN   NaN        S  \n"
     ]
    }
   ],
   "source": [
    "u = y[y.Fare.isnull()]\n",
    "print(u)"
   ]
  },
  {
   "cell_type": "markdown",
   "metadata": {
    "_cell_guid": "1aac6c90-4e2a-2275-0540-50543f636a6a",
    "deletable": true,
    "editable": true
   },
   "source": [
    "<h3> Now, we subset the data to find the best median fare for that missing. </h3>"
   ]
  },
  {
   "cell_type": "code",
   "execution_count": 11,
   "metadata": {
    "_cell_guid": "0517d6ce-4596-b2a1-5963-49890995e2f7",
    "collapsed": false,
    "deletable": true,
    "editable": true
   },
   "outputs": [
    {
     "name": "stdout",
     "output_type": "stream",
     "text": [
      "7.75\n"
     ]
    }
   ],
   "source": [
    "print(np.median((x.query('Pclass == 3 and Sex == \"male\" and Age >= 50' ))['Fare']))\n",
    "data['Fare'] = data['Fare'].fillna(7.75)"
   ]
  },
  {
   "cell_type": "markdown",
   "metadata": {
    "_cell_guid": "fe44bdcd-6f3b-2d3a-d6ac-3989e7d9f5fa",
    "deletable": true,
    "editable": true
   },
   "source": [
    "<h3>Then, we fill the missing Cabin values with \"MISSING\", and we also filled Embarked with \"S\" (highest frequency) </h3>"
   ]
  },
  {
   "cell_type": "code",
   "execution_count": 12,
   "metadata": {
    "_cell_guid": "5fc36617-f15c-6273-a497-afba251809dc",
    "collapsed": true,
    "deletable": true,
    "editable": true
   },
   "outputs": [],
   "source": [
    "data['Cabin']=data['Cabin'].fillna('Missing')\n",
    "data['Embarked']=data['Embarked'].fillna('S')"
   ]
  },
  {
   "cell_type": "markdown",
   "metadata": {
    "_cell_guid": "2d7cc710-094f-c1d2-fb99-be22b8292e0c",
    "deletable": true,
    "editable": true
   },
   "source": [
    "<h3> We note how both Embarked and Sex columns are categorical in nature. We then set them to be categorical in nature, and convert them to category numbers (male = 0, female = 1 etc.)</h3>"
   ]
  },
  {
   "cell_type": "code",
   "execution_count": 13,
   "metadata": {
    "_cell_guid": "983e2de5-b1f0-efef-8e99-41a178a22e9a",
    "collapsed": true,
    "deletable": true,
    "editable": true
   },
   "outputs": [],
   "source": [
    "data['Embarked'].value_counts()\n",
    "\n",
    "## Set both columns to type category\n",
    "data['Embarked'] = data['Embarked'].astype('category')\n",
    "data['Sex'] = data['Sex'].astype('category')\n",
    "\n",
    "## Use cat.codes method to convert categories to numerical labels\n",
    "columns = data.select_dtypes(['category']).columns\n",
    "data[columns] = data[columns].apply(lambda fx: fx.cat.codes)"
   ]
  },
  {
   "cell_type": "markdown",
   "metadata": {
    "_cell_guid": "9c2716f7-06cc-4473-8fc7-81ad820b3401",
    "deletable": true,
    "editable": true
   },
   "source": [
    "### Now, when we inspect the column Cabin, we can see it is filled with Cabin Letters and Numbers. We will attempt to split this data into columns."
   ]
  },
  {
   "cell_type": "code",
   "execution_count": 14,
   "metadata": {
    "_cell_guid": "9337b550-ddb9-face-87cd-a543f279da2c",
    "collapsed": true,
    "deletable": true,
    "editable": true
   },
   "outputs": [],
   "source": [
    "## Intialise two lists to input Cabin Letters (Code) and Numbers (Num)\n",
    "cabinCode = []\n",
    "cabinNum = []\n",
    "\n",
    "## Loop inside Cabin names and get unique values\n",
    "for row in data['Cabin'].str.split('([A-z]+)(\\d+)'):\n",
    "    if len(row)==1:\n",
    "        cabinCode.append('Missing')\n",
    "        cabinNum.append('0')\n",
    "    else:\n",
    "        cabinCode.append(row[1])\n",
    "        cabinNum.append(row[2])\n",
    "        \n",
    "cabinCode = pd.Series(cabinCode).unique()\n",
    "cabinNum = pd.Series(cabinNum).unique()\n",
    "\n",
    "## Loop inside Cabin Codes and apply a cross referencing categorical conversion method\n",
    "for unique in cabinCode:\n",
    "    X = pd.DataFrame((data['Cabin'].str.find(unique)))\n",
    "    X.columns=[unique+'place']\n",
    "    data = pd.concat([data,X],1)\n",
    "\n",
    "## Loop inside Cabin Nums and apply a cross referencing categorical conversion method\n",
    "for unique in cabinNum:\n",
    "    X = pd.DataFrame((data['Cabin'].str.find(unique)))\n",
    "    X.columns=[unique+'num']\n",
    "    data = pd.concat([data,X],1)"
   ]
  },
  {
   "cell_type": "markdown",
   "metadata": {
    "_cell_guid": "d3ce4540-e4fb-15af-cf81-252b9c7ca106",
    "deletable": true,
    "editable": true
   },
   "source": [
    "### Now, when we check the Names of the passengers, we see they have honorifics (Mr, Ms). We will attempt to separate this data"
   ]
  },
  {
   "cell_type": "code",
   "execution_count": 15,
   "metadata": {
    "_cell_guid": "0c51f1b4-ca2c-08f3-630b-4c1d779fcb36",
    "collapsed": true,
    "deletable": true,
    "editable": true
   },
   "outputs": [],
   "source": [
    "## Intialise the honorific list\n",
    "honorific_list = []\n",
    "\n",
    "## Loop inside name and get the unique honorifics\n",
    "for name in (data['Name'].str.split(',')):\n",
    "    honorific = (name[1].split('.'))[0]\n",
    "    honorific_list.append(honorific)\n",
    "    \n",
    "honorUnique = pd.Series(honorific_list).unique()\n",
    "\n",
    "## Loop inside again, and apply a cross referencing categorical conversion method\n",
    "for unique in honorUnique:\n",
    "    X = pd.DataFrame((data['Name'].str.find(unique)))\n",
    "    X.columns=[unique+'honor']\n",
    "    data = pd.concat([data,X],1)"
   ]
  },
  {
   "cell_type": "markdown",
   "metadata": {
    "_cell_guid": "79be4353-24f0-0f6a-0258-e29f4430aeb6",
    "deletable": true,
    "editable": true
   },
   "source": [
    "### Now, when we investigate Tickets, we can change the data into 5 datasets:\n",
    "\n",
    "1. Ticket Length\n",
    "2. How many Dots\n",
    "3. How many Dashes\n",
    "4. Strings of Ticket\n",
    "5. Numbers of Ticket"
   ]
  },
  {
   "cell_type": "code",
   "execution_count": 16,
   "metadata": {
    "_cell_guid": "a9b993d1-6303-3182-621d-eb3ebbeb97d7",
    "collapsed": true,
    "deletable": true,
    "editable": true
   },
   "outputs": [],
   "source": [
    "## Intiliase our 5 lists:\n",
    "\n",
    "ticklength = []; dot_list=[]; dash_list=[]; string_list=[]; num_list=[]\n",
    "\n",
    "## Get ticket length\n",
    "for name in (data['Ticket']):\n",
    "    ticklength.append(len(name))\n",
    "data['tick_length']=ticklength\n",
    "\n",
    "## Split tickets into dots, dashes, strings and numbers\n",
    "ticket_split = data['Ticket'].str.split(' ')\n",
    "for ticket_one in ticket_split:\n",
    "    if len(ticket_one)==1:\n",
    "        if ticket_one==['LINE']:\n",
    "            string_length=-1\n",
    "            num_length=-1\n",
    "            dashes=-2\n",
    "            dots=-2\n",
    "        else:\n",
    "            string_length=0\n",
    "            num_length=(len(str(ticket_one[0])))\n",
    "            dashes=-2\n",
    "            dots=-2\n",
    "    else:\n",
    "        string_length=(len(ticket_one[0]))\n",
    "        num_length=(len(str(ticket_one[1])))\n",
    "        dashes=(ticket_one[0].find('/'))\n",
    "        dots=(ticket_one[0].find('.'))\n",
    "    dot_list.append(dots)\n",
    "    dash_list.append(dashes)\n",
    "    string_list.append(string_length)\n",
    "    num_list.append(num_length)\n",
    "\n",
    "## Combine the datasets onto the main data:\n",
    "add_on = pd.concat([pd.DataFrame(dot_list),pd.DataFrame(dash_list),pd.DataFrame(string_list),\n",
    "           pd.DataFrame(num_list)],1)\n",
    "add_on.columns=['dot_list','dash_list','string_list','num_list']\n",
    "t = data.pop('Ticket')"
   ]
  },
  {
   "cell_type": "markdown",
   "metadata": {
    "_cell_guid": "1530c3f2-92f2-7e48-3cbf-6c9ddeade46e",
    "deletable": true,
    "editable": true
   },
   "source": [
    "### Now, we reset our data by sorting by PassengerId and add the Ticket data onto it"
   ]
  },
  {
   "cell_type": "code",
   "execution_count": 17,
   "metadata": {
    "_cell_guid": "7e9acd41-a09a-9c8d-29db-f426a5e1404e",
    "collapsed": true,
    "deletable": true,
    "editable": true
   },
   "outputs": [],
   "source": [
    "data.reset_index(inplace=True)\n",
    "data=pd.concat([data,add_on],1)"
   ]
  },
  {
   "cell_type": "markdown",
   "metadata": {
    "_cell_guid": "3853fad2-4735-e822-0e58-7fd98725779a",
    "deletable": true,
    "editable": true
   },
   "source": [
    "### Now, we can add 3 more features:\n",
    "\n",
    "1. Family Size\n",
    "2. Fare per family member\n",
    "3. Length of ticket data once aggregated."
   ]
  },
  {
   "cell_type": "code",
   "execution_count": 18,
   "metadata": {
    "_cell_guid": "fb3d0fe5-057a-ab09-204f-aee5f197db19",
    "collapsed": true,
    "deletable": true,
    "editable": true
   },
   "outputs": [],
   "source": [
    "data['Family_size']=data['SibSp']+data['Parch']\n",
    "\n",
    "data['Fare_per']=data['Fare']/(data['Family_size']+1)\n",
    "\n",
    "data['Length']=data['dot_list']+data['dash_list']+data['string_list']+data['num_list']"
   ]
  },
  {
   "cell_type": "markdown",
   "metadata": {
    "_cell_guid": "60d0fcb3-b033-7acd-b0d0-4dba496272d0",
    "deletable": true,
    "editable": true
   },
   "source": [
    "### We then delete columns \"Index\" and \"Level 0\" for cleaning and other columns"
   ]
  },
  {
   "cell_type": "code",
   "execution_count": 19,
   "metadata": {
    "_cell_guid": "0f0b43fb-64e8-e48e-fac7-a62df923ba6e",
    "collapsed": true,
    "deletable": true,
    "editable": true
   },
   "outputs": [],
   "source": [
    "i = data.pop('index')\n",
    "c = data.pop('Cabin')\n",
    "n = data.pop('Name')"
   ]
  },
  {
   "cell_type": "markdown",
   "metadata": {
    "_cell_guid": "af6e4480-476e-6729-71ee-1103ad9cd304",
    "deletable": true,
    "editable": true
   },
   "source": [
    "# AND WE ARE DONE FOR FEATURE ENGINEERING!\n",
    "\n",
    "----------\n",
    "### Now, we need to test the training set, and build our model.\n",
    "![Model building][1]\n",
    "\n",
    "\n",
    "  [1]: https://media.licdn.com/mpr/mpr/AAEAAQAAAAAAAAk3AAAAJDBiZGU1OWZiLWIzZWMtNDU0ZC04NTEwLWY5OWM2ZDc5NGYwMA.png"
   ]
  },
  {
   "cell_type": "markdown",
   "metadata": {
    "_cell_guid": "710267e5-4f6a-f2b0-0c67-73c89c5ce653",
    "deletable": true,
    "editable": true
   },
   "source": [
    "### We first split the data into training and testing sets."
   ]
  },
  {
   "cell_type": "code",
   "execution_count": 20,
   "metadata": {
    "_cell_guid": "4d8472a7-7927-6409-fffa-cb5cf7571004",
    "collapsed": true,
    "deletable": true,
    "editable": true
   },
   "outputs": [],
   "source": [
    "x_train = data[0:891]\n",
    "\n",
    "y_test = data[891:]\n",
    "\n",
    "## Place into arrays for better processing\n",
    "x_train = np.array(x_train)\n",
    "toPredict = np.array(toPredict)\n",
    "testing = np.array(y_test)"
   ]
  },
  {
   "cell_type": "markdown",
   "metadata": {
    "_cell_guid": "6534884e-c63a-240e-3cf2-9bcc25b71cff",
    "deletable": true,
    "editable": true
   },
   "source": [
    "### We can now build our Random Forest Model"
   ]
  },
  {
   "cell_type": "code",
   "execution_count": 21,
   "metadata": {
    "_cell_guid": "cb074829-1f14-725f-93f5-08a6ccf18743",
    "collapsed": false,
    "deletable": true,
    "editable": true
   },
   "outputs": [
    {
     "name": "stdout",
     "output_type": "stream",
     "text": [
      "0.931537598204\n",
      "0.8339\n"
     ]
    },
    {
     "data": {
      "image/png": "[encoded data removed]",
      "text/plain": [
       "<matplotlib.figure.Figure at 0x7f2650276fd0>"
      ]
     },
     "metadata": {},
     "output_type": "display_data"
    }
   ],
   "source": [
    "## Build the model:\n",
    "model = rfc(n_estimators=1000,min_samples_split=10, min_samples_leaf=1, \n",
    "                max_features='auto', max_leaf_nodes=None, \n",
    "                oob_score=True, n_jobs=1, random_state=1)\n",
    "model.fit(x_train,toPredict)\n",
    "\n",
    "## Print scores:\n",
    "print(model.score(x_train,toPredict))\n",
    "\n",
    "## Plot the feature importances:\n",
    "plt.plot(model.feature_importances_)\n",
    "\n",
    "## Print out the Out Of Bag Accuracy:\n",
    "print(\"%.4f\" % model.oob_score_)"
   ]
  },
  {
   "cell_type": "markdown",
   "metadata": {
    "_cell_guid": "d5dee70d-c925-baf6-4213-8d510374a7cd",
    "deletable": true,
    "editable": true
   },
   "source": [
    "### Noticing how the training time was slow, we can see how the Random Forest automatically removed the unnecessary features (by making them to 0).\n",
    "\n",
    "\n",
    "----------\n",
    "### So no need for us to do dimensionality reduction!"
   ]
  },
  {
   "cell_type": "markdown",
   "metadata": {
    "_cell_guid": "0dac4057-54e9-d00c-7c53-1b86e7636a9a",
    "deletable": true,
    "editable": true
   },
   "source": [
    "### Now, to optimise our model to increase the OOB score or Out Of Bag Score, we will iterate through these 3 parameters: n_estimators, sample splits and leaves"
   ]
  },
  {
   "cell_type": "markdown",
   "metadata": {
    "_cell_guid": "6c0c9988-5f6d-08bf-30fb-e5ac74b8d453",
    "deletable": true,
    "editable": true
   },
   "source": [
    "***Let us first iterate the n_estimators:***"
   ]
  },
  {
   "cell_type": "code",
   "execution_count": 22,
   "metadata": {
    "_cell_guid": "b1f0276b-a7f1-895d-0c25-7cac1f8ac59d",
    "collapsed": false,
    "deletable": true,
    "editable": true
   },
   "outputs": [
    {
     "name": "stdout",
     "output_type": "stream",
     "text": [
      "500 : 0.826038159371\n",
      "600 : 0.83164983165\n",
      "700 : 0.832772166105\n",
      "800 : 0.835016835017\n",
      "900 : 0.832772166105\n",
      "1000 : 0.833894500561\n",
      "1100 : 0.836139169473\n",
      "1200 : 0.836139169473\n",
      "1500 : 0.836139169473\n",
      "2000 : 0.837261503928\n",
      "2500 : 0.833894500561\n",
      "3000 : 0.833894500561\n"
     ]
    }
   ],
   "source": [
    "## Initialise vectors for iteration:\n",
    "\n",
    "n_est = [500, 600, 700, 800, 900, 1000, 1100, 1200, 1500, 2000, 2500, 3000]\n",
    "\n",
    "for n_e in n_est:\n",
    "    model = rfc(n_estimators=n_e,min_samples_split=10, min_samples_leaf=1, \n",
    "                max_features='auto', max_leaf_nodes=None, \n",
    "                oob_score=True, n_jobs=1, random_state=1)\n",
    "    model.fit(x_train,toPredict)\n",
    "    print(str(n_e)+' : '+str(model.oob_score_))"
   ]
  },
  {
   "cell_type": "markdown",
   "metadata": {
    "_cell_guid": "25f94258-d5ea-588a-913d-fcde5ba19ea0",
    "deletable": true,
    "editable": true
   },
   "source": [
    "### Fascinatingly enough, we see the OOB score is greatest at around 2000 iterations.\n",
    "\n",
    "We will now attempt to iterate around 2000 to see if it improves."
   ]
  },
  {
   "cell_type": "code",
   "execution_count": 23,
   "metadata": {
    "_cell_guid": "86f8c49e-9663-5100-3e37-07fde9b5728b",
    "collapsed": false,
    "deletable": true,
    "editable": true
   },
   "outputs": [
    {
     "name": "stdout",
     "output_type": "stream",
     "text": [
      "1600 : 0.835016835017\n",
      "1700 : 0.836139169473\n",
      "1800 : 0.837261503928\n",
      "1900 : 0.837261503928\n",
      "2100 : 0.837261503928\n",
      "2200 : 0.838383838384\n",
      "2300 : 0.835016835017\n",
      "2400 : 0.832772166105\n"
     ]
    }
   ],
   "source": [
    "## Initialise vectors for iteration:\n",
    "\n",
    "n_est = [1600, 1700, 1800, 1900, 2100, 2200, 2300, 2400]\n",
    "\n",
    "for n_e in n_est:\n",
    "    model = rfc(n_estimators=n_e,min_samples_split=10, min_samples_leaf=1, \n",
    "                max_features='auto', max_leaf_nodes=None, \n",
    "                oob_score=True, n_jobs=1, random_state=1)\n",
    "    model.fit(x_train,toPredict)\n",
    "    print(str(n_e)+' : '+str(model.oob_score_))"
   ]
  },
  {
   "cell_type": "markdown",
   "metadata": {
    "_cell_guid": "7d1080ec-75a8-dd76-9d36-93d5fcfe0d98",
    "deletable": true,
    "editable": true
   },
   "source": [
    "### Great! Around 2200 it increases! Let's do it once more time around 2200:"
   ]
  },
  {
   "cell_type": "code",
   "execution_count": 24,
   "metadata": {
    "_cell_guid": "7c8ed0d8-b566-db9b-0b1b-359a9cd1a604",
    "collapsed": false,
    "deletable": true,
    "editable": true
   },
   "outputs": [
    {
     "name": "stdout",
     "output_type": "stream",
     "text": [
      "2110 : 0.837261503928\n",
      "2120 : 0.838383838384\n",
      "2130 : 0.837261503928\n",
      "2140 : 0.838383838384\n",
      "2150 : 0.837261503928\n",
      "2160 : 0.836139169473\n",
      "2170 : 0.837261503928\n",
      "2180 : 0.838383838384\n",
      "2190 : 0.838383838384\n",
      "2210 : 0.837261503928\n",
      "2220 : 0.836139169473\n",
      "2230 : 0.833894500561\n",
      "2240 : 0.837261503928\n",
      "2250 : 0.835016835017\n",
      "2260 : 0.836139169473\n"
     ]
    }
   ],
   "source": [
    "## Initialise vectors for iteration:\n",
    "\n",
    "n_est = [2110, 2120, 2130, 2140, 2150, 2160, 2170, 2180, 2190, 2210, 2220, 2230, 2240, 2250, 2260]\n",
    "\n",
    "for n_e in n_est:\n",
    "    model = rfc(n_estimators=n_e,min_samples_split=10, min_samples_leaf=1, \n",
    "                max_features='auto', max_leaf_nodes=None, \n",
    "                oob_score=True, n_jobs=1, random_state=1)\n",
    "    model.fit(x_train,toPredict)\n",
    "    print(str(n_e)+' : '+str(model.oob_score_))"
   ]
  },
  {
   "cell_type": "markdown",
   "metadata": {
    "_cell_guid": "80832277-fb55-277a-1270-90ad146b1f90",
    "deletable": true,
    "editable": true
   },
   "source": [
    "### We see no change. We will leave it at 2200."
   ]
  },
  {
   "cell_type": "markdown",
   "metadata": {
    "_cell_guid": "3a9b452f-425b-e393-f34e-e68ba8bb4c40",
    "deletable": true,
    "editable": true
   },
   "source": [
    "### Let's iterate through Sample Splits now, by using the same method (LOL i think this is a from of Gradient Descent, though using guessing)\n",
    "\n",
    "![Newton's Method][1]\n",
    "\n",
    "\n",
    "  [1]: https://i.stack.imgur.com/ac9O7.png"
   ]
  },
  {
   "cell_type": "code",
   "execution_count": 25,
   "metadata": {
    "_cell_guid": "cf96a3e3-37cf-50d5-4fe9-fa0da1988128",
    "collapsed": false,
    "deletable": true,
    "editable": true
   },
   "outputs": [
    {
     "name": "stdout",
     "output_type": "stream",
     "text": [
      "2 : 0.835016835017\n",
      "3 : 0.835016835017\n",
      "4 : 0.837261503928\n",
      "5 : 0.836139169473\n",
      "6 : 0.833894500561\n",
      "7 : 0.836139169473\n",
      "8 : 0.836139169473\n",
      "9 : 0.835016835017\n",
      "10 : 0.838383838384\n",
      "11 : 0.836139169473\n",
      "12 : 0.83164983165\n",
      "13 : 0.83164983165\n",
      "14 : 0.830527497194\n",
      "15 : 0.829405162738\n",
      "16 : 0.824915824916\n",
      "17 : 0.829405162738\n",
      "18 : 0.827160493827\n",
      "19 : 0.821548821549\n"
     ]
    }
   ],
   "source": [
    "for n_e in range(2,20):\n",
    "    model = rfc(n_estimators=2200,min_samples_split=n_e, min_samples_leaf=1, \n",
    "                max_features='auto', max_leaf_nodes=None, \n",
    "                oob_score=True, n_jobs=1, random_state=1)\n",
    "    model.fit(x_train,toPredict)\n",
    "    print(str(n_e)+' : '+str(model.oob_score_))"
   ]
  },
  {
   "cell_type": "markdown",
   "metadata": {
    "_cell_guid": "8be9db58-bc33-33d4-893b-91309872e1e9",
    "deletable": true,
    "editable": true
   },
   "source": [
    "### We can see it stops increasing at 10, so I leave it there at 10."
   ]
  },
  {
   "cell_type": "markdown",
   "metadata": {
    "_cell_guid": "1c1850b4-b02d-5d7c-28e7-2ce8cc1edff5",
    "deletable": true,
    "editable": true
   },
   "source": [
    "### Finally, we need to check leaf splits:"
   ]
  },
  {
   "cell_type": "code",
   "execution_count": 26,
   "metadata": {
    "_cell_guid": "36d210b5-6911-2127-093d-2c93a696f741",
    "collapsed": false,
    "deletable": true,
    "editable": true
   },
   "outputs": [
    {
     "name": "stdout",
     "output_type": "stream",
     "text": [
      "1 : 0.838383838384\n",
      "2 : 0.822671156004\n",
      "3 : 0.822671156004\n",
      "4 : 0.81593714927\n",
      "5 : 0.814814814815\n",
      "6 : 0.81593714927\n",
      "7 : 0.812570145903\n",
      "8 : 0.808080808081\n",
      "9 : 0.811447811448\n",
      "10 : 0.809203142536\n",
      "11 : 0.810325476992\n",
      "12 : 0.810325476992\n",
      "13 : 0.803591470258\n",
      "14 : 0.808080808081\n",
      "15 : 0.803591470258\n",
      "16 : 0.804713804714\n",
      "17 : 0.801346801347\n",
      "18 : 0.800224466891\n",
      "19 : 0.802469135802\n"
     ]
    }
   ],
   "source": [
    "for n_e in range(1,20):\n",
    "    model = rfc(n_estimators=2200,min_samples_split=10, min_samples_leaf=n_e, \n",
    "                max_features='auto', max_leaf_nodes=None, \n",
    "                oob_score=True, n_jobs=1, random_state=1)\n",
    "    model.fit(x_train,toPredict)\n",
    "    print(str(n_e)+' : '+str(model.oob_score_))"
   ]
  },
  {
   "cell_type": "markdown",
   "metadata": {
    "_cell_guid": "7ae4be8e-529e-cbfa-4309-669a09f0d6c6",
    "deletable": true,
    "editable": true
   },
   "source": [
    "### Once again, no change. We'll leave it at 1 split."
   ]
  },
  {
   "cell_type": "markdown",
   "metadata": {
    "_cell_guid": "9465071f-6b24-6274-fa50-0ceb7ce441d6",
    "deletable": true,
    "editable": true
   },
   "source": [
    "### YAY! Now let's predict our testing data!\n",
    "\n",
    "\n",
    "----------\n",
    "![Test][1]\n",
    "\n",
    "\n",
    "  [1]: https://lh4.ggpht.com/wKrDLLmmxjfRG2-E-k5L5BUuHWpCOe4lWRF7oVs1Gzdn5e5yvr8fj-ORTlBF43U47yI=w300"
   ]
  },
  {
   "cell_type": "markdown",
   "metadata": {
    "_cell_guid": "52f36409-e25b-8077-83c4-e11af7285c4f",
    "deletable": true,
    "editable": true
   },
   "source": [
    "### We use the predict function and then publish the test results!"
   ]
  },
  {
   "cell_type": "code",
   "execution_count": 27,
   "metadata": {
    "_cell_guid": "a78e5553-7cda-37e0-e3a9-7d6dd3713fea",
    "collapsed": true,
    "deletable": true,
    "editable": true
   },
   "outputs": [],
   "source": [
    "## Make final model\n",
    "model = rfc(n_estimators=2200,min_samples_split=10, min_samples_leaf=1, \n",
    "                max_features='auto', max_leaf_nodes=None, \n",
    "                oob_score=True, n_jobs=1, random_state=1)\n",
    "model.fit(x_train,toPredict)\n",
    "    \n",
    "## Predict!\n",
    "h = model.predict(testing)\n",
    "Results = pd.concat([y['PassengerId'],pd.DataFrame(h)],1)\n",
    "\n",
    "Results.columns=['PassengerId','Survived']\n",
    "Results.set_index('PassengerId')\n",
    "\n",
    "Results.to_csv('new.csv',sep=',',index=False)"
   ]
  },
  {
   "cell_type": "markdown",
   "metadata": {
    "_cell_guid": "5b255490-d4de-bee0-b368-6a1f2c89e7a3",
    "deletable": true,
    "editable": true
   },
   "source": [
    "# And we're done!\n",
    "\n",
    "### Note I got an accuracy of 80.383%. Not bad for my first data set I guess. I did 43 revisions LOL. Testing different models and increasing or deleting features.\n",
    "\n",
    "----------\n",
    "\n",
    "#Conclusion\n",
    "Feature engineering is very important if you want to boost your scores.\n",
    "Data cleaning is a very important step, as real world data is also messy.\n",
    "Random Forests are very useful, especially after you optimise them.\n",
    "Breaking down the problem is very important.\n",
    "If you fail, keep trying. You'll eventually get it :)\n",
    "\n",
    "### I am also writing a Kaggle Keras Model for the Titanic Data.\n",
    "\n",
    "## Anyways, thanks a lot!\n",
    "![Thanks][1]\n",
    "\n",
    "\n",
    "  [1]: http://www.clipartkid.com/images/91/thanks-clipart-give-thanks-thanks-for-watching-thanksgiving-thanks-kKtxd9-clipart.jpg"
   ]
  }
 ],
 "metadata": {
  "_change_revision": 2,
  "_is_fork": false,
  "kernelspec": {
   "display_name": "Python 2",
   "language": "python",
   "name": "python2"
  },
  "language_info": {
   "codemirror_mode": {
    "name": "ipython",
    "version": 2
   },
   "file_extension": ".py",
   "mimetype": "text/x-python",
   "name": "python",
   "nbconvert_exporter": "python",
   "pygments_lexer": "ipython2",
   "version": "2.7.12+"
  }
 },
 "nbformat": 4,
 "nbformat_minor": 0
}
